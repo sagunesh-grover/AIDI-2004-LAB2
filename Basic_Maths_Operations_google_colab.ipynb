{
  "nbformat": 4,
  "nbformat_minor": 0,
  "metadata": {
    "colab": {
      "name": "Basic_Maths_Operations_google_colab.ipynb",
      "provenance": [],
      "collapsed_sections": [],
      "authorship_tag": "ABX9TyPv2teKL7UxOhSOtYqfTvL7",
      "include_colab_link": true
    },
    "kernelspec": {
      "name": "python3",
      "display_name": "Python 3"
    }
  },
  "cells": [
    {
      "cell_type": "markdown",
      "metadata": {
        "id": "view-in-github",
        "colab_type": "text"
      },
      "source": [
        "<a href=\"https://colab.research.google.com/github/sagunesh-grover/AIDI-2004-LAB2/blob/main/Basic_Maths_Operations_google_colab.ipynb\" target=\"_parent\"><img src=\"https://colab.research.google.com/assets/colab-badge.svg\" alt=\"Open In Colab\"/></a>"
      ]
    },
    {
      "cell_type": "code",
      "metadata": {
        "id": "iFs4iOZ9oQ8q"
      },
      "source": [
        "#simple maths program through gcp\r\n",
        "def add(a,b):\r\n",
        "    return a+b\r\n",
        "def sub(a,b):\r\n",
        "    return a-b\r\n",
        "def mul(a,b):\r\n",
        "    return a*b\r\n",
        "def div(a,b):\r\n",
        "    return a/b\r\n",
        "\r\n",
        "a = 10\r\n",
        "b = 2\r\n",
        "\r\n",
        "print(\"Addition = \"+str(add(10,2)))\r\n",
        "print(\"Subtraction = \"+str(sub(10,2)))\r\n",
        "print(\"Multiplication= \"+str(mul(10,2)))\r\n",
        "print(\"Division= \"+str(div(10,2)))"
      ],
      "execution_count": null,
      "outputs": []
    }
  ]
}